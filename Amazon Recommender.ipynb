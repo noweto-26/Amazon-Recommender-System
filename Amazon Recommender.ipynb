{
 "cells": [
  {
   "cell_type": "code",
   "execution_count": 1,
   "id": "230d66f1",
   "metadata": {},
   "outputs": [],
   "source": [
    "import numpy as np # linear algebra\n",
    "import pandas as pd # data processing, CSV file I/O (e.g. pd.read_csv)\n",
    "import os\n",
    "from IPython.core.interactiveshell import InteractiveShell\n",
    "InteractiveShell.ast_node_interactivity = \"all\"\n",
    "import math\n",
    "import json\n",
    "import time\n",
    "import matplotlib.pyplot as plt\n",
    "import seaborn as sns\n",
    "from sklearn.metrics.pairwise import cosine_similarity\n",
    "from sklearn.model_selection import train_test_split\n",
    "from sklearn.neighbors import NearestNeighbors\n",
    "import scipy.sparse\n",
    "from scipy.sparse import csr_matrix\n",
    "from scipy.sparse.linalg import svds\n",
    "import warnings; warnings.simplefilter('ignore')\n",
    "%matplotlib inline\n",
    "\n"
   ]
  },
  {
   "cell_type": "code",
   "execution_count": 2,
   "id": "8652d89f",
   "metadata": {},
   "outputs": [],
   "source": [
    "electronics_data=pd.read_csv(\"ratings_Electronics.csv\",names=['userId', 'productId','Rating','timestamp'])"
   ]
  },
  {
   "cell_type": "code",
   "execution_count": 3,
   "id": "295a5678",
   "metadata": {},
   "outputs": [
    {
     "data": {
      "text/html": [
       "<div>\n",
       "<style scoped>\n",
       "    .dataframe tbody tr th:only-of-type {\n",
       "        vertical-align: middle;\n",
       "    }\n",
       "\n",
       "    .dataframe tbody tr th {\n",
       "        vertical-align: top;\n",
       "    }\n",
       "\n",
       "    .dataframe thead th {\n",
       "        text-align: right;\n",
       "    }\n",
       "</style>\n",
       "<table border=\"1\" class=\"dataframe\">\n",
       "  <thead>\n",
       "    <tr style=\"text-align: right;\">\n",
       "      <th></th>\n",
       "      <th>userId</th>\n",
       "      <th>productId</th>\n",
       "      <th>Rating</th>\n",
       "      <th>timestamp</th>\n",
       "    </tr>\n",
       "  </thead>\n",
       "  <tbody>\n",
       "    <tr>\n",
       "      <th>0</th>\n",
       "      <td>AKM1MP6P0OYPR</td>\n",
       "      <td>0132793040</td>\n",
       "      <td>5.0</td>\n",
       "      <td>1365811200</td>\n",
       "    </tr>\n",
       "    <tr>\n",
       "      <th>1</th>\n",
       "      <td>A2CX7LUOHB2NDG</td>\n",
       "      <td>0321732944</td>\n",
       "      <td>5.0</td>\n",
       "      <td>1341100800</td>\n",
       "    </tr>\n",
       "    <tr>\n",
       "      <th>2</th>\n",
       "      <td>A2NWSAGRHCP8N5</td>\n",
       "      <td>0439886341</td>\n",
       "      <td>1.0</td>\n",
       "      <td>1367193600</td>\n",
       "    </tr>\n",
       "    <tr>\n",
       "      <th>3</th>\n",
       "      <td>A2WNBOD3WNDNKT</td>\n",
       "      <td>0439886341</td>\n",
       "      <td>3.0</td>\n",
       "      <td>1374451200</td>\n",
       "    </tr>\n",
       "    <tr>\n",
       "      <th>4</th>\n",
       "      <td>A1GI0U4ZRJA8WN</td>\n",
       "      <td>0439886341</td>\n",
       "      <td>1.0</td>\n",
       "      <td>1334707200</td>\n",
       "    </tr>\n",
       "  </tbody>\n",
       "</table>\n",
       "</div>"
      ],
      "text/plain": [
       "           userId   productId  Rating   timestamp\n",
       "0   AKM1MP6P0OYPR  0132793040     5.0  1365811200\n",
       "1  A2CX7LUOHB2NDG  0321732944     5.0  1341100800\n",
       "2  A2NWSAGRHCP8N5  0439886341     1.0  1367193600\n",
       "3  A2WNBOD3WNDNKT  0439886341     3.0  1374451200\n",
       "4  A1GI0U4ZRJA8WN  0439886341     1.0  1334707200"
      ]
     },
     "execution_count": 3,
     "metadata": {},
     "output_type": "execute_result"
    }
   ],
   "source": [
    "electronics_data.head() "
   ]
  },
  {
   "cell_type": "code",
   "execution_count": 4,
   "id": "ea7c88b3",
   "metadata": {},
   "outputs": [
    {
     "data": {
      "text/plain": [
       "(7824482, 4)"
      ]
     },
     "execution_count": 4,
     "metadata": {},
     "output_type": "execute_result"
    }
   ],
   "source": [
    "electronics_data.shape"
   ]
  },
  {
   "cell_type": "code",
   "execution_count": 5,
   "id": "0d4492e9",
   "metadata": {},
   "outputs": [],
   "source": [
    "#Taking subset of the dataset\n",
    "electronics_data = electronics_data.iloc[:1048576,:]"
   ]
  },
  {
   "cell_type": "code",
   "execution_count": 6,
   "id": "45a2c87a",
   "metadata": {},
   "outputs": [
    {
     "data": {
      "text/plain": [
       "(1048576, 4)"
      ]
     },
     "execution_count": 6,
     "metadata": {},
     "output_type": "execute_result"
    }
   ],
   "source": [
    "electronics_data.shape"
   ]
  },
  {
   "cell_type": "code",
   "execution_count": 7,
   "id": "757e5650",
   "metadata": {},
   "outputs": [
    {
     "data": {
      "text/plain": [
       "userId        object\n",
       "productId     object\n",
       "Rating       float64\n",
       "timestamp      int64\n",
       "dtype: object"
      ]
     },
     "execution_count": 7,
     "metadata": {},
     "output_type": "execute_result"
    }
   ],
   "source": [
    "# Checking the Data Type \n",
    "electronics_data.dtypes"
   ]
  },
  {
   "cell_type": "code",
   "execution_count": 8,
   "id": "1519e177",
   "metadata": {},
   "outputs": [
    {
     "name": "stdout",
     "output_type": "stream",
     "text": [
      "<class 'pandas.core.frame.DataFrame'>\n",
      "RangeIndex: 1048576 entries, 0 to 1048575\n",
      "Data columns (total 4 columns):\n",
      " #   Column     Non-Null Count    Dtype  \n",
      "---  ------     --------------    -----  \n",
      " 0   userId     1048576 non-null  object \n",
      " 1   productId  1048576 non-null  object \n",
      " 2   Rating     1048576 non-null  float64\n",
      " 3   timestamp  1048576 non-null  int64  \n",
      "dtypes: float64(1), int64(1), object(2)\n",
      "memory usage: 32.0+ MB\n"
     ]
    }
   ],
   "source": [
    "electronics_data.info() # there is no missing Values in this Data"
   ]
  },
  {
   "cell_type": "code",
   "execution_count": 9,
   "id": "6a86c9c4",
   "metadata": {},
   "outputs": [],
   "source": [
    "electronics_data = electronics_data.drop(columns=['timestamp'],axis=1)"
   ]
  },
  {
   "cell_type": "code",
   "execution_count": 10,
   "id": "c4e972f0",
   "metadata": {},
   "outputs": [
    {
     "data": {
      "text/plain": [
       "count    1.048576e+06\n",
       "mean     3.973380e+00\n",
       "std      1.399329e+00\n",
       "min      1.000000e+00\n",
       "25%      3.000000e+00\n",
       "50%      5.000000e+00\n",
       "75%      5.000000e+00\n",
       "max      5.000000e+00\n",
       "Name: Rating, dtype: float64"
      ]
     },
     "execution_count": 10,
     "metadata": {},
     "output_type": "execute_result"
    }
   ],
   "source": [
    "# Five point Summary\n",
    "electronics_data.describe()['Rating'].T"
   ]
  },
  {
   "cell_type": "code",
   "execution_count": 11,
   "id": "7e294d48",
   "metadata": {},
   "outputs": [
    {
     "name": "stdout",
     "output_type": "stream",
     "text": [
      "Minimum rating is: 1\n",
      "Maximum rating is: 5\n"
     ]
    }
   ],
   "source": [
    "#Find the minimum and maximum ratings\n",
    "print('Minimum rating is: %d' %(electronics_data.Rating.min()))\n",
    "print('Maximum rating is: %d' %(electronics_data.Rating.max()))\n",
    "# The Rating Of Movie From Range 1 .. 5"
   ]
  },
  {
   "cell_type": "code",
   "execution_count": 12,
   "id": "82ded967",
   "metadata": {},
   "outputs": [
    {
     "data": {
      "text/plain": [
       "userId       0\n",
       "productId    0\n",
       "Rating       0\n",
       "dtype: int64"
      ]
     },
     "execution_count": 12,
     "metadata": {},
     "output_type": "execute_result"
    }
   ],
   "source": [
    "electronics_data.isnull().sum() # So there is no missing Values"
   ]
  },
  {
   "cell_type": "code",
   "execution_count": 13,
   "id": "d9d12926",
   "metadata": {},
   "outputs": [
    {
     "data": {
      "text/plain": [
       "<seaborn.axisgrid.FacetGrid at 0x2158002b8e0>"
      ]
     },
     "execution_count": 13,
     "metadata": {},
     "output_type": "execute_result"
    },
    {
     "data": {
      "image/png": "[encoded data removed]",
      "text/plain": [
       "<Figure size 720x360 with 1 Axes>"
      ]
     },
     "metadata": {
      "needs_background": "light"
     },
     "output_type": "display_data"
    }
   ],
   "source": [
    "# Check the distribution of Rating .. || using sns.factorplot || == Bar plot\n",
    "g = sns.factorplot(\"Rating\", data=electronics_data, aspect=2.0,kind='count')\n",
    "g.set_ylabels(\"Total number of ratings\") # factorplot method is used to draw a categorical plot\n",
    "# Most rated by user is 5"
   ]
  },
  {
   "cell_type": "code",
   "execution_count": 14,
   "id": "36b2b9a5",
   "metadata": {},
   "outputs": [
    {
     "name": "stdout",
     "output_type": "stream",
     "text": [
      "Total data \n",
      "--------------------------------------------------\n",
      "\n",
      "Total no of ratings : 1048576\n",
      "Total No of Users   : 786330\n",
      "Total No of Products   : 61894\n"
     ]
    }
   ],
   "source": [
    "# Unique Users and Products \n",
    "print(\"Total data \")\n",
    "print(\"-\"*50)\n",
    "print(\"\\nTotal no of ratings :\",electronics_data.shape[0])\n",
    "print(\"Total No of Users   :\", len(np.unique(electronics_data.userId)))\n",
    "print(\"Total No of Products   :\", len(np.unique(electronics_data.productId)))"
   ]
  },
  {
   "cell_type": "markdown",
   "id": "da251400",
   "metadata": {},
   "source": [
    "# Analyzing The Rating"
   ]
  },
  {
   "cell_type": "code",
   "execution_count": 15,
   "id": "f725f213",
   "metadata": {},
   "outputs": [],
   "source": [
    "no_of_rated_products_per_user = electronics_data.groupby(by='userId')['Rating'].count().sort_values(ascending=False) # "
   ]
  },
  {
   "cell_type": "code",
   "execution_count": 16,
   "id": "69a9a076",
   "metadata": {},
   "outputs": [
    {
     "data": {
      "text/plain": [
       "userId\n",
       "A5JLAU2ARJ0BO     412\n",
       "A231WM2Z2JL0U3    249\n",
       "A25HBO5V8S8SEA    164\n",
       "A6FIAB28IS79      146\n",
       "AT6CZDCP4TRGA     128\n",
       "                 ... \n",
       "A2DLCB8GU5E3YU      1\n",
       "A2DLCBR62GHUNV      1\n",
       "A2DLCKIT568DD2      1\n",
       "A2DLCVS7U8OB92      1\n",
       "AZZZOVIBXHGDR       1\n",
       "Name: Rating, Length: 786330, dtype: int64"
      ]
     },
     "execution_count": 16,
     "metadata": {},
     "output_type": "execute_result"
    }
   ],
   "source": [
    "no_of_rated_products_per_user # get unique userid and count no. of rating for each user"
   ]
  },
  {
   "cell_type": "code",
   "execution_count": 17,
   "id": "f4ab2597",
   "metadata": {},
   "outputs": [
    {
     "data": {
      "text/plain": [
       "userId\n",
       "A5JLAU2ARJ0BO     412\n",
       "A231WM2Z2JL0U3    249\n",
       "A25HBO5V8S8SEA    164\n",
       "A6FIAB28IS79      146\n",
       "AT6CZDCP4TRGA     128\n",
       "Name: Rating, dtype: int64"
      ]
     },
     "execution_count": 17,
     "metadata": {},
     "output_type": "execute_result"
    }
   ],
   "source": [
    "no_of_rated_products_per_user.head()"
   ]
  },
  {
   "cell_type": "code",
   "execution_count": 18,
   "id": "cefa19c8",
   "metadata": {},
   "outputs": [
    {
     "data": {
      "text/plain": [
       "count    786330.000000\n",
       "mean          1.333506\n",
       "std           1.385612\n",
       "min           1.000000\n",
       "25%           1.000000\n",
       "50%           1.000000\n",
       "75%           1.000000\n",
       "max         412.000000\n",
       "Name: Rating, dtype: float64"
      ]
     },
     "execution_count": 18,
     "metadata": {},
     "output_type": "execute_result"
    }
   ],
   "source": [
    "no_of_rated_products_per_user.describe()"
   ]
  },
  {
   "cell_type": "code",
   "execution_count": 19,
   "id": "fecf7cd1",
   "metadata": {},
   "outputs": [
    {
     "name": "stdout",
     "output_type": "stream",
     "text": [
      "\n",
      " No of users whose rated more than 50 product :  38\n"
     ]
    }
   ],
   "source": [
    "print('\\n No of users whose rated more than 50 product : ' , sum(no_of_rated_products_per_user>=50))"
   ]
  },
  {
   "cell_type": "code",
   "execution_count": 41,
   "id": "135e5971",
   "metadata": {},
   "outputs": [
    {
     "data": {
      "text/plain": [
       "<AxesSubplot:xlabel='Rating', ylabel='Density'>"
      ]
     },
     "execution_count": 41,
     "metadata": {},
     "output_type": "execute_result"
    },
    {
     "data": {
      "image/png": "[encoded data removed]",
      "text/plain": [
       "<Figure size 432x288 with 1 Axes>"
      ]
     },
     "metadata": {
      "needs_background": "light"
     },
     "output_type": "display_data"
    }
   ],
   "source": [
    "sns.distplot(no_of_rated_products_per_user, color=\"Orange\", kde=True, bins=40)\n",
    "# this shows that most user have rated just 1 item, with some outliers such as user rating more then 100 item"
   ]
  },
  {
   "cell_type": "code",
   "execution_count": 51,
   "id": "23998976",
   "metadata": {},
   "outputs": [],
   "source": [
    "# Checking the number of users who give one rate only\n",
    "user_with_one_rate = no_of_rated_products_per_user[no_of_rated_products_per_user==1].count()"
   ]
  },
  {
   "cell_type": "code",
   "execution_count": 52,
   "id": "e77298ae",
   "metadata": {},
   "outputs": [
    {
     "data": {
      "text/plain": [
       "649509"
      ]
     },
     "execution_count": 52,
     "metadata": {},
     "output_type": "execute_result"
    }
   ],
   "source": [
    "user_with_one_rate"
   ]
  },
  {
   "cell_type": "code",
   "execution_count": 53,
   "id": "55713a86",
   "metadata": {},
   "outputs": [],
   "source": [
    "# percentage of user who give only one time rate\n",
    "ratio = user_with_one_rate/ no_of_rated_products_per_user.count()"
   ]
  },
  {
   "cell_type": "code",
   "execution_count": 54,
   "id": "37b13d8e",
   "metadata": {},
   "outputs": [
    {
     "data": {
      "text/plain": [
       "0.8260005341268933"
      ]
     },
     "execution_count": 54,
     "metadata": {},
     "output_type": "execute_result"
    }
   ],
   "source": [
    "ratio "
   ]
  },
  {
   "cell_type": "markdown",
   "id": "e872d9a7",
   "metadata": {},
   "source": [
    "## 82% from user have only one rate"
   ]
  },
  {
   "cell_type": "markdown",
   "id": "c6bcd3fb",
   "metadata": {},
   "source": [
    "# Popularity Based Recommendation"
   ]
  },
  {
   "cell_type": "code",
   "execution_count": 20,
   "id": "09fc9841",
   "metadata": {},
   "outputs": [],
   "source": [
    "# Popularity based recommendation system works with the trend. \n",
    "# It basically uses the items which are in trend right now. For example,\n",
    "# if any product which is usually bought by every new user then there are chances \n",
    "# that it may suggest that item to the user who just signed up.\n",
    "# The problems with popularity based recommendation system is that the personalization is not available with this method i.e. \n",
    "# even though you know the behaviour of the user you cannot recommend items accordingly"
   ]
  },
  {
   "cell_type": "code",
   "execution_count": 21,
   "id": "625889d7",
   "metadata": {},
   "outputs": [
    {
     "data": {
      "text/html": [
       "<div>\n",
       "<style scoped>\n",
       "    .dataframe tbody tr th:only-of-type {\n",
       "        vertical-align: middle;\n",
       "    }\n",
       "\n",
       "    .dataframe tbody tr th {\n",
       "        vertical-align: top;\n",
       "    }\n",
       "\n",
       "    .dataframe thead th {\n",
       "        text-align: right;\n",
       "    }\n",
       "</style>\n",
       "<table border=\"1\" class=\"dataframe\">\n",
       "  <thead>\n",
       "    <tr style=\"text-align: right;\">\n",
       "      <th></th>\n",
       "      <th>productId</th>\n",
       "      <th>Rating</th>\n",
       "    </tr>\n",
       "    <tr>\n",
       "      <th>userId</th>\n",
       "      <th></th>\n",
       "      <th></th>\n",
       "    </tr>\n",
       "  </thead>\n",
       "  <tbody>\n",
       "    <tr>\n",
       "      <th>A00037441I8XOQJSUWCAG</th>\n",
       "      <td>1</td>\n",
       "      <td>1</td>\n",
       "    </tr>\n",
       "    <tr>\n",
       "      <th>A00038802J7X43YTW44TD</th>\n",
       "      <td>2</td>\n",
       "      <td>2</td>\n",
       "    </tr>\n",
       "    <tr>\n",
       "      <th>A000428226SAAAIBK8I36</th>\n",
       "      <td>1</td>\n",
       "      <td>1</td>\n",
       "    </tr>\n",
       "    <tr>\n",
       "      <th>A0004478EF5NFPHLGCWG</th>\n",
       "      <td>1</td>\n",
       "      <td>1</td>\n",
       "    </tr>\n",
       "    <tr>\n",
       "      <th>A000681618A3WRMCK53V</th>\n",
       "      <td>1</td>\n",
       "      <td>1</td>\n",
       "    </tr>\n",
       "    <tr>\n",
       "      <th>...</th>\n",
       "      <td>...</td>\n",
       "      <td>...</td>\n",
       "    </tr>\n",
       "    <tr>\n",
       "      <th>AZZYXVW7BAJVD</th>\n",
       "      <td>1</td>\n",
       "      <td>1</td>\n",
       "    </tr>\n",
       "    <tr>\n",
       "      <th>AZZZBMD2MDOQR</th>\n",
       "      <td>1</td>\n",
       "      <td>1</td>\n",
       "    </tr>\n",
       "    <tr>\n",
       "      <th>AZZZEWADNFNUM</th>\n",
       "      <td>2</td>\n",
       "      <td>2</td>\n",
       "    </tr>\n",
       "    <tr>\n",
       "      <th>AZZZJXM9GW3C5</th>\n",
       "      <td>1</td>\n",
       "      <td>1</td>\n",
       "    </tr>\n",
       "    <tr>\n",
       "      <th>AZZZOVIBXHGDR</th>\n",
       "      <td>1</td>\n",
       "      <td>1</td>\n",
       "    </tr>\n",
       "  </tbody>\n",
       "</table>\n",
       "<p>786330 rows × 2 columns</p>\n",
       "</div>"
      ],
      "text/plain": [
       "                       productId  Rating\n",
       "userId                                  \n",
       "A00037441I8XOQJSUWCAG          1       1\n",
       "A00038802J7X43YTW44TD          2       2\n",
       "A000428226SAAAIBK8I36          1       1\n",
       "A0004478EF5NFPHLGCWG           1       1\n",
       "A000681618A3WRMCK53V           1       1\n",
       "...                          ...     ...\n",
       "AZZYXVW7BAJVD                  1       1\n",
       "AZZZBMD2MDOQR                  1       1\n",
       "AZZZEWADNFNUM                  2       2\n",
       "AZZZJXM9GW3C5                  1       1\n",
       "AZZZOVIBXHGDR                  1       1\n",
       "\n",
       "[786330 rows x 2 columns]"
      ]
     },
     "execution_count": 21,
     "metadata": {},
     "output_type": "execute_result"
    }
   ],
   "source": [
    "df = electronics_data.groupby('userId').count() # Select from df users id and count no of ['rating'] for each user\n",
    "df # Get each unique user and make some operation on it "
   ]
  },
  {
   "cell_type": "code",
   "execution_count": 22,
   "id": "445c6283",
   "metadata": {},
   "outputs": [
    {
     "data": {
      "text/plain": [
       "productId\n",
       "0132793040       1\n",
       "0321732944       1\n",
       "0439886341       3\n",
       "0511189877       6\n",
       "0528881469      27\n",
       "              ... \n",
       "B000IF4788    1001\n",
       "B000IF4FVC       1\n",
       "B000IF4G2A       1\n",
       "B000IF4TPY     156\n",
       "B000IF51UQ      66\n",
       "Name: Rating, Length: 61894, dtype: int64"
      ]
     },
     "execution_count": 22,
     "metadata": {},
     "output_type": "execute_result"
    }
   ],
   "source": [
    "df = electronics_data.groupby('productId')['Rating'].count()\n",
    "df # Get each unique product id and make some operation on it , ex. get Rating count for each product "
   ]
  },
  {
   "cell_type": "code",
   "execution_count": 23,
   "id": "28de5a4c",
   "metadata": {},
   "outputs": [
    {
     "data": {
      "text/plain": [
       "productId\n",
       "0972683275    1051\n",
       "1400501466     250\n",
       "1400501520      82\n",
       "1400501776     139\n",
       "1400532620     171\n",
       "              ... \n",
       "B000IEN8QQ      64\n",
       "B000IEO964      60\n",
       "B000IF4788    1001\n",
       "B000IF4TPY     156\n",
       "B000IF51UQ      66\n",
       "Name: Rating, Length: 3813, dtype: int64"
      ]
     },
     "execution_count": 23,
     "metadata": {},
     "output_type": "execute_result"
    }
   ],
   "source": [
    "df[df>=50] # there are 3813 product have more then 50 Rating"
   ]
  },
  {
   "cell_type": "code",
   "execution_count": 26,
   "id": "c3151ab7",
   "metadata": {},
   "outputs": [],
   "source": [
    "# New Df contain products which have >=50 rating by the user \n",
    "new_df = electronics_data.groupby('productId').filter(lambda x:x['Rating'].count() >=50 )  # Great!\n",
    "# select rows contain products which have more than 50 rating by the users\n",
    "# .filter() return all value not just unique values"
   ]
  },
  {
   "cell_type": "code",
   "execution_count": 27,
   "id": "8cba947f",
   "metadata": {},
   "outputs": [
    {
     "data": {
      "text/html": [
       "<div>\n",
       "<style scoped>\n",
       "    .dataframe tbody tr th:only-of-type {\n",
       "        vertical-align: middle;\n",
       "    }\n",
       "\n",
       "    .dataframe tbody tr th {\n",
       "        vertical-align: top;\n",
       "    }\n",
       "\n",
       "    .dataframe thead th {\n",
       "        text-align: right;\n",
       "    }\n",
       "</style>\n",
       "<table border=\"1\" class=\"dataframe\">\n",
       "  <thead>\n",
       "    <tr style=\"text-align: right;\">\n",
       "      <th></th>\n",
       "      <th>userId</th>\n",
       "      <th>productId</th>\n",
       "      <th>Rating</th>\n",
       "    </tr>\n",
       "  </thead>\n",
       "  <tbody>\n",
       "    <tr>\n",
       "      <th>183</th>\n",
       "      <td>A1BKC6B7YHYTVV</td>\n",
       "      <td>0972683275</td>\n",
       "      <td>4.0</td>\n",
       "    </tr>\n",
       "    <tr>\n",
       "      <th>184</th>\n",
       "      <td>AWVFSIB42LHKJ</td>\n",
       "      <td>0972683275</td>\n",
       "      <td>4.0</td>\n",
       "    </tr>\n",
       "    <tr>\n",
       "      <th>185</th>\n",
       "      <td>A36MQBNADRH8YY</td>\n",
       "      <td>0972683275</td>\n",
       "      <td>5.0</td>\n",
       "    </tr>\n",
       "    <tr>\n",
       "      <th>186</th>\n",
       "      <td>A3SRXMPLAEZ6DP</td>\n",
       "      <td>0972683275</td>\n",
       "      <td>4.0</td>\n",
       "    </tr>\n",
       "    <tr>\n",
       "      <th>187</th>\n",
       "      <td>A20XXTXWF2TCPY</td>\n",
       "      <td>0972683275</td>\n",
       "      <td>5.0</td>\n",
       "    </tr>\n",
       "    <tr>\n",
       "      <th>...</th>\n",
       "      <td>...</td>\n",
       "      <td>...</td>\n",
       "      <td>...</td>\n",
       "    </tr>\n",
       "    <tr>\n",
       "      <th>1048571</th>\n",
       "      <td>A1H16CBCNEL4G3</td>\n",
       "      <td>B000IF51UQ</td>\n",
       "      <td>5.0</td>\n",
       "    </tr>\n",
       "    <tr>\n",
       "      <th>1048572</th>\n",
       "      <td>A1C2OANTC49AQI</td>\n",
       "      <td>B000IF51UQ</td>\n",
       "      <td>5.0</td>\n",
       "    </tr>\n",
       "    <tr>\n",
       "      <th>1048573</th>\n",
       "      <td>A2JL0387FDDFS</td>\n",
       "      <td>B000IF51UQ</td>\n",
       "      <td>5.0</td>\n",
       "    </tr>\n",
       "    <tr>\n",
       "      <th>1048574</th>\n",
       "      <td>A2KIYE5RF0OEMY</td>\n",
       "      <td>B000IF51UQ</td>\n",
       "      <td>4.0</td>\n",
       "    </tr>\n",
       "    <tr>\n",
       "      <th>1048575</th>\n",
       "      <td>A1G9Q5UJ5Y7DES</td>\n",
       "      <td>B000IF51UQ</td>\n",
       "      <td>2.0</td>\n",
       "    </tr>\n",
       "  </tbody>\n",
       "</table>\n",
       "<p>677947 rows × 3 columns</p>\n",
       "</div>"
      ],
      "text/plain": [
       "                 userId   productId  Rating\n",
       "183      A1BKC6B7YHYTVV  0972683275     4.0\n",
       "184       AWVFSIB42LHKJ  0972683275     4.0\n",
       "185      A36MQBNADRH8YY  0972683275     5.0\n",
       "186      A3SRXMPLAEZ6DP  0972683275     4.0\n",
       "187      A20XXTXWF2TCPY  0972683275     5.0\n",
       "...                 ...         ...     ...\n",
       "1048571  A1H16CBCNEL4G3  B000IF51UQ     5.0\n",
       "1048572  A1C2OANTC49AQI  B000IF51UQ     5.0\n",
       "1048573   A2JL0387FDDFS  B000IF51UQ     5.0\n",
       "1048574  A2KIYE5RF0OEMY  B000IF51UQ     4.0\n",
       "1048575  A1G9Q5UJ5Y7DES  B000IF51UQ     2.0\n",
       "\n",
       "[677947 rows x 3 columns]"
      ]
     },
     "execution_count": 27,
     "metadata": {},
     "output_type": "execute_result"
    }
   ],
   "source": [
    "new_df"
   ]
  },
  {
   "cell_type": "code",
   "execution_count": 28,
   "id": "347c18d4",
   "metadata": {},
   "outputs": [],
   "source": [
    "no_of_ratings_per_product = new_df.groupby(by='productId')['Rating'].count().sort_values(ascending=False)"
   ]
  },
  {
   "cell_type": "code",
   "execution_count": 29,
   "id": "14a0e6cd",
   "metadata": {},
   "outputs": [
    {
     "data": {
      "text/plain": [
       "productId\n",
       "B0002L5R78    9487\n",
       "B0001FTVEK    5345\n",
       "B000I68BD4    4903\n",
       "B000BQ7GW8    4275\n",
       "B00007E7JU    3523\n",
       "              ... \n",
       "B000A6JTHO      50\n",
       "B0001WN0M2      50\n",
       "B00020E4QO      50\n",
       "B000I42XWQ      50\n",
       "B00006I5JA      50\n",
       "Name: Rating, Length: 3813, dtype: int64"
      ]
     },
     "execution_count": 29,
     "metadata": {},
     "output_type": "execute_result"
    }
   ],
   "source": [
    "no_of_ratings_per_product # all these products have more than 50 Rating "
   ]
  },
  {
   "cell_type": "code",
   "execution_count": 30,
   "id": "d9f9d58e",
   "metadata": {},
   "outputs": [
    {
     "data": {
      "text/plain": [
       "count    677947.000000\n",
       "mean          4.049815\n",
       "std           1.354329\n",
       "min           1.000000\n",
       "25%           4.000000\n",
       "50%           5.000000\n",
       "75%           5.000000\n",
       "max           5.000000\n",
       "Name: Rating, dtype: float64"
      ]
     },
     "execution_count": 30,
     "metadata": {},
     "output_type": "execute_result"
    }
   ],
   "source": [
    "# rating info for products \n",
    "new_df.describe()['Rating']"
   ]
  },
  {
   "cell_type": "code",
   "execution_count": 31,
   "id": "ab8dd72c",
   "metadata": {},
   "outputs": [],
   "source": [
    "final_df = pd.DataFrame(new_df.groupby('productId')['Rating'].mean())"
   ]
  },
  {
   "cell_type": "code",
   "execution_count": 32,
   "id": "c0bc41d4",
   "metadata": {},
   "outputs": [
    {
     "data": {
      "text/html": [
       "<div>\n",
       "<style scoped>\n",
       "    .dataframe tbody tr th:only-of-type {\n",
       "        vertical-align: middle;\n",
       "    }\n",
       "\n",
       "    .dataframe tbody tr th {\n",
       "        vertical-align: top;\n",
       "    }\n",
       "\n",
       "    .dataframe thead th {\n",
       "        text-align: right;\n",
       "    }\n",
       "</style>\n",
       "<table border=\"1\" class=\"dataframe\">\n",
       "  <thead>\n",
       "    <tr style=\"text-align: right;\">\n",
       "      <th></th>\n",
       "      <th>Rating</th>\n",
       "    </tr>\n",
       "    <tr>\n",
       "      <th>productId</th>\n",
       "      <th></th>\n",
       "    </tr>\n",
       "  </thead>\n",
       "  <tbody>\n",
       "    <tr>\n",
       "      <th>0972683275</th>\n",
       "      <td>4.470980</td>\n",
       "    </tr>\n",
       "    <tr>\n",
       "      <th>1400501466</th>\n",
       "      <td>3.560000</td>\n",
       "    </tr>\n",
       "    <tr>\n",
       "      <th>1400501520</th>\n",
       "      <td>4.243902</td>\n",
       "    </tr>\n",
       "    <tr>\n",
       "      <th>1400501776</th>\n",
       "      <td>3.884892</td>\n",
       "    </tr>\n",
       "    <tr>\n",
       "      <th>1400532620</th>\n",
       "      <td>3.684211</td>\n",
       "    </tr>\n",
       "    <tr>\n",
       "      <th>...</th>\n",
       "      <td>...</td>\n",
       "    </tr>\n",
       "    <tr>\n",
       "      <th>B000IEN8QQ</th>\n",
       "      <td>4.531250</td>\n",
       "    </tr>\n",
       "    <tr>\n",
       "      <th>B000IEO964</th>\n",
       "      <td>4.533333</td>\n",
       "    </tr>\n",
       "    <tr>\n",
       "      <th>B000IF4788</th>\n",
       "      <td>4.189810</td>\n",
       "    </tr>\n",
       "    <tr>\n",
       "      <th>B000IF4TPY</th>\n",
       "      <td>4.211538</td>\n",
       "    </tr>\n",
       "    <tr>\n",
       "      <th>B000IF51UQ</th>\n",
       "      <td>3.969697</td>\n",
       "    </tr>\n",
       "  </tbody>\n",
       "</table>\n",
       "<p>3813 rows × 1 columns</p>\n",
       "</div>"
      ],
      "text/plain": [
       "              Rating\n",
       "productId           \n",
       "0972683275  4.470980\n",
       "1400501466  3.560000\n",
       "1400501520  4.243902\n",
       "1400501776  3.884892\n",
       "1400532620  3.684211\n",
       "...              ...\n",
       "B000IEN8QQ  4.531250\n",
       "B000IEO964  4.533333\n",
       "B000IF4788  4.189810\n",
       "B000IF4TPY  4.211538\n",
       "B000IF51UQ  3.969697\n",
       "\n",
       "[3813 rows x 1 columns]"
      ]
     },
     "execution_count": 32,
     "metadata": {},
     "output_type": "execute_result"
    }
   ],
   "source": [
    "final_df # Get each unique product with average rate of this product"
   ]
  },
  {
   "cell_type": "code",
   "execution_count": 33,
   "id": "2e74bb07",
   "metadata": {},
   "outputs": [],
   "source": [
    "final_df.columns = ['Average Rating']"
   ]
  },
  {
   "cell_type": "code",
   "execution_count": 34,
   "id": "744e9d20",
   "metadata": {},
   "outputs": [],
   "source": [
    "# add new Column\n",
    "final_df['Rating counts'] = pd.DataFrame(new_df.groupby('productId')['Rating'].count())"
   ]
  },
  {
   "cell_type": "code",
   "execution_count": 35,
   "id": "70423e1d",
   "metadata": {},
   "outputs": [
    {
     "data": {
      "text/html": [
       "<div>\n",
       "<style scoped>\n",
       "    .dataframe tbody tr th:only-of-type {\n",
       "        vertical-align: middle;\n",
       "    }\n",
       "\n",
       "    .dataframe tbody tr th {\n",
       "        vertical-align: top;\n",
       "    }\n",
       "\n",
       "    .dataframe thead th {\n",
       "        text-align: right;\n",
       "    }\n",
       "</style>\n",
       "<table border=\"1\" class=\"dataframe\">\n",
       "  <thead>\n",
       "    <tr style=\"text-align: right;\">\n",
       "      <th></th>\n",
       "      <th>Average Rating</th>\n",
       "      <th>Rating counts</th>\n",
       "    </tr>\n",
       "    <tr>\n",
       "      <th>productId</th>\n",
       "      <th></th>\n",
       "      <th></th>\n",
       "    </tr>\n",
       "  </thead>\n",
       "  <tbody>\n",
       "    <tr>\n",
       "      <th>0972683275</th>\n",
       "      <td>4.470980</td>\n",
       "      <td>1051</td>\n",
       "    </tr>\n",
       "    <tr>\n",
       "      <th>1400501466</th>\n",
       "      <td>3.560000</td>\n",
       "      <td>250</td>\n",
       "    </tr>\n",
       "    <tr>\n",
       "      <th>1400501520</th>\n",
       "      <td>4.243902</td>\n",
       "      <td>82</td>\n",
       "    </tr>\n",
       "    <tr>\n",
       "      <th>1400501776</th>\n",
       "      <td>3.884892</td>\n",
       "      <td>139</td>\n",
       "    </tr>\n",
       "    <tr>\n",
       "      <th>1400532620</th>\n",
       "      <td>3.684211</td>\n",
       "      <td>171</td>\n",
       "    </tr>\n",
       "    <tr>\n",
       "      <th>...</th>\n",
       "      <td>...</td>\n",
       "      <td>...</td>\n",
       "    </tr>\n",
       "    <tr>\n",
       "      <th>B000IEN8QQ</th>\n",
       "      <td>4.531250</td>\n",
       "      <td>64</td>\n",
       "    </tr>\n",
       "    <tr>\n",
       "      <th>B000IEO964</th>\n",
       "      <td>4.533333</td>\n",
       "      <td>60</td>\n",
       "    </tr>\n",
       "    <tr>\n",
       "      <th>B000IF4788</th>\n",
       "      <td>4.189810</td>\n",
       "      <td>1001</td>\n",
       "    </tr>\n",
       "    <tr>\n",
       "      <th>B000IF4TPY</th>\n",
       "      <td>4.211538</td>\n",
       "      <td>156</td>\n",
       "    </tr>\n",
       "    <tr>\n",
       "      <th>B000IF51UQ</th>\n",
       "      <td>3.969697</td>\n",
       "      <td>66</td>\n",
       "    </tr>\n",
       "  </tbody>\n",
       "</table>\n",
       "<p>3813 rows × 2 columns</p>\n",
       "</div>"
      ],
      "text/plain": [
       "            Average Rating  Rating counts\n",
       "productId                                \n",
       "0972683275        4.470980           1051\n",
       "1400501466        3.560000            250\n",
       "1400501520        4.243902             82\n",
       "1400501776        3.884892            139\n",
       "1400532620        3.684211            171\n",
       "...                    ...            ...\n",
       "B000IEN8QQ        4.531250             64\n",
       "B000IEO964        4.533333             60\n",
       "B000IF4788        4.189810           1001\n",
       "B000IF4TPY        4.211538            156\n",
       "B000IF51UQ        3.969697             66\n",
       "\n",
       "[3813 rows x 2 columns]"
      ]
     },
     "execution_count": 35,
     "metadata": {},
     "output_type": "execute_result"
    }
   ],
   "source": [
    "# Our New data frame\n",
    "final_df"
   ]
  },
  {
   "cell_type": "code",
   "execution_count": 36,
   "id": "be056db5",
   "metadata": {},
   "outputs": [
    {
     "data": {
      "text/plain": [
       "9487"
      ]
     },
     "execution_count": 36,
     "metadata": {},
     "output_type": "execute_result"
    }
   ],
   "source": [
    "# Max product have rated .. 9487 times\n",
    "final_df['Rating counts'].max()"
   ]
  },
  {
   "cell_type": "code",
   "execution_count": 37,
   "id": "0f620bd5",
   "metadata": {},
   "outputs": [
    {
     "data": {
      "text/plain": [
       "<Figure size 576x432 with 0 Axes>"
      ]
     },
     "execution_count": 37,
     "metadata": {},
     "output_type": "execute_result"
    },
    {
     "data": {
      "text/plain": [
       "<AxesSubplot:>"
      ]
     },
     "execution_count": 37,
     "metadata": {},
     "output_type": "execute_result"
    },
    {
     "data": {
      "image/png": "[encoded data removed]",
      "text/plain": [
       "<Figure size 576x432 with 1 Axes>"
      ]
     },
     "metadata": {
      "needs_background": "light"
     },
     "output_type": "display_data"
    }
   ],
   "source": [
    "# Draw histogram For rating Counts .. using .hist() \n",
    "plt.figure(figsize=(8,6))\n",
    "plt.rcParams['patch.force_edgecolor'] = True\n",
    "final_df['Rating counts'].hist(bins=50)"
   ]
  },
  {
   "cell_type": "code",
   "execution_count": 56,
   "id": "d8093002",
   "metadata": {},
   "outputs": [
    {
     "data": {
      "text/plain": [
       "<Figure size 576x432 with 0 Axes>"
      ]
     },
     "execution_count": 56,
     "metadata": {},
     "output_type": "execute_result"
    },
    {
     "data": {
      "text/plain": [
       "<AxesSubplot:>"
      ]
     },
     "execution_count": 56,
     "metadata": {},
     "output_type": "execute_result"
    },
    {
     "data": {
      "image/png": "[encoded data removed]",
      "text/plain": [
       "<Figure size 576x432 with 1 Axes>"
      ]
     },
     "metadata": {
      "needs_background": "light"
     },
     "output_type": "display_data"
    }
   ],
   "source": [
    "# draw histogram for average Distribution of products\n",
    "plt.figure(figsize=(8,6))\n",
    "plt.rcParams['patch.force_edgecolor'] = True\n",
    "final_df['Average Rating'].hist(bins=50) # .. Good, simple skewed left \n",
    "# Histogram Clarifying each rate repeated n times "
   ]
  },
  {
   "cell_type": "markdown",
   "id": "24912d47",
   "metadata": {},
   "source": [
    "# Bayesian Average For Most Popularity"
   ]
  },
  {
   "cell_type": "markdown",
   "id": "576f3917",
   "metadata": {},
   "source": [
    "# Ra=WR+(1−W)R0"
   ]
  },
  {
   "cell_type": "markdown",
   "id": "f80328d7",
   "metadata": {},
   "source": [
    "- Ra= averaged ('bayesian') rating\n",
    "\n",
    "- R= individual rating: average rating for this item.\n",
    "\n",
    "- R0= a priori rating: global average rating, for all items in your database.\n",
    "\n",
    "- W= weight factor: it should tend to 0 if this items has few votes, and it should tend to 1 if it has many"
   ]
  },
  {
   "cell_type": "code",
   "execution_count": 57,
   "id": "2ed6cae6",
   "metadata": {},
   "outputs": [],
   "source": [
    "# Ratio of count of ratings from zero to one\n",
    "final_df['ratio of count rating(0,1)'] = final_df['Rating counts']/final_df['Rating counts'].max()"
   ]
  },
  {
   "cell_type": "code",
   "execution_count": 58,
   "id": "52a3d955",
   "metadata": {},
   "outputs": [
    {
     "data": {
      "text/html": [
       "<div>\n",
       "<style scoped>\n",
       "    .dataframe tbody tr th:only-of-type {\n",
       "        vertical-align: middle;\n",
       "    }\n",
       "\n",
       "    .dataframe tbody tr th {\n",
       "        vertical-align: top;\n",
       "    }\n",
       "\n",
       "    .dataframe thead th {\n",
       "        text-align: right;\n",
       "    }\n",
       "</style>\n",
       "<table border=\"1\" class=\"dataframe\">\n",
       "  <thead>\n",
       "    <tr style=\"text-align: right;\">\n",
       "      <th></th>\n",
       "      <th>Average Rating</th>\n",
       "      <th>Rating counts</th>\n",
       "      <th>ratio of count rating(0,1)</th>\n",
       "    </tr>\n",
       "    <tr>\n",
       "      <th>productId</th>\n",
       "      <th></th>\n",
       "      <th></th>\n",
       "      <th></th>\n",
       "    </tr>\n",
       "  </thead>\n",
       "  <tbody>\n",
       "    <tr>\n",
       "      <th>0972683275</th>\n",
       "      <td>4.470980</td>\n",
       "      <td>1051</td>\n",
       "      <td>0.110783</td>\n",
       "    </tr>\n",
       "    <tr>\n",
       "      <th>1400501466</th>\n",
       "      <td>3.560000</td>\n",
       "      <td>250</td>\n",
       "      <td>0.026352</td>\n",
       "    </tr>\n",
       "    <tr>\n",
       "      <th>1400501520</th>\n",
       "      <td>4.243902</td>\n",
       "      <td>82</td>\n",
       "      <td>0.008643</td>\n",
       "    </tr>\n",
       "    <tr>\n",
       "      <th>1400501776</th>\n",
       "      <td>3.884892</td>\n",
       "      <td>139</td>\n",
       "      <td>0.014652</td>\n",
       "    </tr>\n",
       "    <tr>\n",
       "      <th>1400532620</th>\n",
       "      <td>3.684211</td>\n",
       "      <td>171</td>\n",
       "      <td>0.018025</td>\n",
       "    </tr>\n",
       "    <tr>\n",
       "      <th>...</th>\n",
       "      <td>...</td>\n",
       "      <td>...</td>\n",
       "      <td>...</td>\n",
       "    </tr>\n",
       "    <tr>\n",
       "      <th>B000IEN8QQ</th>\n",
       "      <td>4.531250</td>\n",
       "      <td>64</td>\n",
       "      <td>0.006746</td>\n",
       "    </tr>\n",
       "    <tr>\n",
       "      <th>B000IEO964</th>\n",
       "      <td>4.533333</td>\n",
       "      <td>60</td>\n",
       "      <td>0.006324</td>\n",
       "    </tr>\n",
       "    <tr>\n",
       "      <th>B000IF4788</th>\n",
       "      <td>4.189810</td>\n",
       "      <td>1001</td>\n",
       "      <td>0.105513</td>\n",
       "    </tr>\n",
       "    <tr>\n",
       "      <th>B000IF4TPY</th>\n",
       "      <td>4.211538</td>\n",
       "      <td>156</td>\n",
       "      <td>0.016444</td>\n",
       "    </tr>\n",
       "    <tr>\n",
       "      <th>B000IF51UQ</th>\n",
       "      <td>3.969697</td>\n",
       "      <td>66</td>\n",
       "      <td>0.006957</td>\n",
       "    </tr>\n",
       "  </tbody>\n",
       "</table>\n",
       "<p>3813 rows × 3 columns</p>\n",
       "</div>"
      ],
      "text/plain": [
       "            Average Rating  Rating counts  ratio of count rating(0,1)\n",
       "productId                                                            \n",
       "0972683275        4.470980           1051                    0.110783\n",
       "1400501466        3.560000            250                    0.026352\n",
       "1400501520        4.243902             82                    0.008643\n",
       "1400501776        3.884892            139                    0.014652\n",
       "1400532620        3.684211            171                    0.018025\n",
       "...                    ...            ...                         ...\n",
       "B000IEN8QQ        4.531250             64                    0.006746\n",
       "B000IEO964        4.533333             60                    0.006324\n",
       "B000IF4788        4.189810           1001                    0.105513\n",
       "B000IF4TPY        4.211538            156                    0.016444\n",
       "B000IF51UQ        3.969697             66                    0.006957\n",
       "\n",
       "[3813 rows x 3 columns]"
      ]
     },
     "execution_count": 58,
     "metadata": {},
     "output_type": "execute_result"
    }
   ],
   "source": [
    "final_df"
   ]
  },
  {
   "cell_type": "code",
   "execution_count": 59,
   "id": "3c724f5e",
   "metadata": {},
   "outputs": [
    {
     "data": {
      "text/plain": [
       "Average Rating                   4.448614\n",
       "Rating counts                 9487.000000\n",
       "ratio of count rating(0,1)       1.000000\n",
       "Name: B0002L5R78, dtype: float64"
      ]
     },
     "execution_count": 59,
     "metadata": {},
     "output_type": "execute_result"
    }
   ],
   "source": [
    "# max value of ratio_of_count_rating is 1 when rating count in it's Max 9487\n",
    "final_df.loc[final_df['ratio of count rating(0,1)'].idxmax()]"
   ]
  },
  {
   "cell_type": "code",
   "execution_count": 60,
   "id": "acd76afd",
   "metadata": {},
   "outputs": [],
   "source": [
    "final_df['averaged bayesian rating'] = final_df['ratio of count rating(0,1)']*final_df['Average Rating']+(1-final_df['ratio of count rating(0,1)'])*final_df['Average Rating'].max()"
   ]
  },
  {
   "cell_type": "code",
   "execution_count": 61,
   "id": "8c7c219d",
   "metadata": {},
   "outputs": [
    {
     "data": {
      "text/html": [
       "<div>\n",
       "<style scoped>\n",
       "    .dataframe tbody tr th:only-of-type {\n",
       "        vertical-align: middle;\n",
       "    }\n",
       "\n",
       "    .dataframe tbody tr th {\n",
       "        vertical-align: top;\n",
       "    }\n",
       "\n",
       "    .dataframe thead th {\n",
       "        text-align: right;\n",
       "    }\n",
       "</style>\n",
       "<table border=\"1\" class=\"dataframe\">\n",
       "  <thead>\n",
       "    <tr style=\"text-align: right;\">\n",
       "      <th></th>\n",
       "      <th>Average Rating</th>\n",
       "      <th>Rating counts</th>\n",
       "      <th>ratio of count rating(0,1)</th>\n",
       "      <th>averaged bayesian rating</th>\n",
       "    </tr>\n",
       "    <tr>\n",
       "      <th>productId</th>\n",
       "      <th></th>\n",
       "      <th></th>\n",
       "      <th></th>\n",
       "      <th></th>\n",
       "    </tr>\n",
       "  </thead>\n",
       "  <tbody>\n",
       "    <tr>\n",
       "      <th>0972683275</th>\n",
       "      <td>4.470980</td>\n",
       "      <td>1051</td>\n",
       "      <td>0.110783</td>\n",
       "      <td>4.894593</td>\n",
       "    </tr>\n",
       "    <tr>\n",
       "      <th>1400501466</th>\n",
       "      <td>3.560000</td>\n",
       "      <td>250</td>\n",
       "      <td>0.026352</td>\n",
       "      <td>4.910809</td>\n",
       "    </tr>\n",
       "    <tr>\n",
       "      <th>1400501520</th>\n",
       "      <td>4.243902</td>\n",
       "      <td>82</td>\n",
       "      <td>0.008643</td>\n",
       "      <td>4.941288</td>\n",
       "    </tr>\n",
       "    <tr>\n",
       "      <th>1400501776</th>\n",
       "      <td>3.884892</td>\n",
       "      <td>139</td>\n",
       "      <td>0.014652</td>\n",
       "      <td>4.931801</td>\n",
       "    </tr>\n",
       "    <tr>\n",
       "      <th>1400532620</th>\n",
       "      <td>3.684211</td>\n",
       "      <td>171</td>\n",
       "      <td>0.018025</td>\n",
       "      <td>4.924600</td>\n",
       "    </tr>\n",
       "    <tr>\n",
       "      <th>...</th>\n",
       "      <td>...</td>\n",
       "      <td>...</td>\n",
       "      <td>...</td>\n",
       "      <td>...</td>\n",
       "    </tr>\n",
       "    <tr>\n",
       "      <th>B000IEN8QQ</th>\n",
       "      <td>4.531250</td>\n",
       "      <td>64</td>\n",
       "      <td>0.006746</td>\n",
       "      <td>4.944561</td>\n",
       "    </tr>\n",
       "    <tr>\n",
       "      <th>B000IEO964</th>\n",
       "      <td>4.533333</td>\n",
       "      <td>60</td>\n",
       "      <td>0.006324</td>\n",
       "      <td>4.944750</td>\n",
       "    </tr>\n",
       "    <tr>\n",
       "      <th>B000IF4788</th>\n",
       "      <td>4.189810</td>\n",
       "      <td>1001</td>\n",
       "      <td>0.105513</td>\n",
       "      <td>4.867436</td>\n",
       "    </tr>\n",
       "    <tr>\n",
       "      <th>B000IF4TPY</th>\n",
       "      <td>4.211538</td>\n",
       "      <td>156</td>\n",
       "      <td>0.016444</td>\n",
       "      <td>4.935269</td>\n",
       "    </tr>\n",
       "    <tr>\n",
       "      <th>B000IF51UQ</th>\n",
       "      <td>3.969697</td>\n",
       "      <td>66</td>\n",
       "      <td>0.006957</td>\n",
       "      <td>4.940567</td>\n",
       "    </tr>\n",
       "  </tbody>\n",
       "</table>\n",
       "<p>3813 rows × 4 columns</p>\n",
       "</div>"
      ],
      "text/plain": [
       "            Average Rating  Rating counts  ratio of count rating(0,1)  \\\n",
       "productId                                                               \n",
       "0972683275        4.470980           1051                    0.110783   \n",
       "1400501466        3.560000            250                    0.026352   \n",
       "1400501520        4.243902             82                    0.008643   \n",
       "1400501776        3.884892            139                    0.014652   \n",
       "1400532620        3.684211            171                    0.018025   \n",
       "...                    ...            ...                         ...   \n",
       "B000IEN8QQ        4.531250             64                    0.006746   \n",
       "B000IEO964        4.533333             60                    0.006324   \n",
       "B000IF4788        4.189810           1001                    0.105513   \n",
       "B000IF4TPY        4.211538            156                    0.016444   \n",
       "B000IF51UQ        3.969697             66                    0.006957   \n",
       "\n",
       "            averaged bayesian rating  \n",
       "productId                             \n",
       "0972683275                  4.894593  \n",
       "1400501466                  4.910809  \n",
       "1400501520                  4.941288  \n",
       "1400501776                  4.931801  \n",
       "1400532620                  4.924600  \n",
       "...                              ...  \n",
       "B000IEN8QQ                  4.944561  \n",
       "B000IEO964                  4.944750  \n",
       "B000IF4788                  4.867436  \n",
       "B000IF4TPY                  4.935269  \n",
       "B000IF51UQ                  4.940567  \n",
       "\n",
       "[3813 rows x 4 columns]"
      ]
     },
     "execution_count": 61,
     "metadata": {},
     "output_type": "execute_result"
    }
   ],
   "source": [
    "final_df"
   ]
  },
  {
   "cell_type": "code",
   "execution_count": 62,
   "id": "b252602f",
   "metadata": {},
   "outputs": [],
   "source": [
    "popular_products_df = pd.DataFrame(final_df.sort_values('averaged bayesian rating', ascending=False)) "
   ]
  },
  {
   "cell_type": "markdown",
   "id": "071322cb",
   "metadata": {},
   "source": [
    "# Top 5 products which Highly Highly Recommended"
   ]
  },
  {
   "cell_type": "code",
   "execution_count": 63,
   "id": "b3bfe804",
   "metadata": {},
   "outputs": [
    {
     "data": {
      "text/html": [
       "<div>\n",
       "<style scoped>\n",
       "    .dataframe tbody tr th:only-of-type {\n",
       "        vertical-align: middle;\n",
       "    }\n",
       "\n",
       "    .dataframe tbody tr th {\n",
       "        vertical-align: top;\n",
       "    }\n",
       "\n",
       "    .dataframe thead th {\n",
       "        text-align: right;\n",
       "    }\n",
       "</style>\n",
       "<table border=\"1\" class=\"dataframe\">\n",
       "  <thead>\n",
       "    <tr style=\"text-align: right;\">\n",
       "      <th></th>\n",
       "      <th>Average Rating</th>\n",
       "      <th>Rating counts</th>\n",
       "      <th>ratio of count rating(0,1)</th>\n",
       "      <th>averaged bayesian rating</th>\n",
       "    </tr>\n",
       "    <tr>\n",
       "      <th>productId</th>\n",
       "      <th></th>\n",
       "      <th></th>\n",
       "      <th></th>\n",
       "      <th></th>\n",
       "    </tr>\n",
       "  </thead>\n",
       "  <tbody>\n",
       "    <tr>\n",
       "      <th>B0000DYV9H</th>\n",
       "      <td>4.947368</td>\n",
       "      <td>76</td>\n",
       "      <td>0.008011</td>\n",
       "      <td>4.947368</td>\n",
       "    </tr>\n",
       "    <tr>\n",
       "      <th>B000053HC5</th>\n",
       "      <td>4.945783</td>\n",
       "      <td>166</td>\n",
       "      <td>0.017498</td>\n",
       "      <td>4.947341</td>\n",
       "    </tr>\n",
       "    <tr>\n",
       "      <th>B00005LE76</th>\n",
       "      <td>4.879310</td>\n",
       "      <td>58</td>\n",
       "      <td>0.006114</td>\n",
       "      <td>4.946952</td>\n",
       "    </tr>\n",
       "    <tr>\n",
       "      <th>B000213ZFE</th>\n",
       "      <td>4.860000</td>\n",
       "      <td>50</td>\n",
       "      <td>0.005270</td>\n",
       "      <td>4.946908</td>\n",
       "    </tr>\n",
       "    <tr>\n",
       "      <th>B00069SORG</th>\n",
       "      <td>4.847458</td>\n",
       "      <td>59</td>\n",
       "      <td>0.006219</td>\n",
       "      <td>4.946747</td>\n",
       "    </tr>\n",
       "  </tbody>\n",
       "</table>\n",
       "</div>"
      ],
      "text/plain": [
       "            Average Rating  Rating counts  ratio of count rating(0,1)  \\\n",
       "productId                                                               \n",
       "B0000DYV9H        4.947368             76                    0.008011   \n",
       "B000053HC5        4.945783            166                    0.017498   \n",
       "B00005LE76        4.879310             58                    0.006114   \n",
       "B000213ZFE        4.860000             50                    0.005270   \n",
       "B00069SORG        4.847458             59                    0.006219   \n",
       "\n",
       "            averaged bayesian rating  \n",
       "productId                             \n",
       "B0000DYV9H                  4.947368  \n",
       "B000053HC5                  4.947341  \n",
       "B00005LE76                  4.946952  \n",
       "B000213ZFE                  4.946908  \n",
       "B00069SORG                  4.946747  "
      ]
     },
     "execution_count": 63,
     "metadata": {},
     "output_type": "execute_result"
    }
   ],
   "source": [
    "popular_products_df.head() # Top 5 products which Highly Highly Recommended"
   ]
  },
  {
   "cell_type": "code",
   "execution_count": 64,
   "id": "056e8791",
   "metadata": {},
   "outputs": [
    {
     "data": {
      "text/plain": [
       "<AxesSubplot:>"
      ]
     },
     "execution_count": 64,
     "metadata": {},
     "output_type": "execute_result"
    },
    {
     "data": {
      "image/png": "[encoded data removed]",
      "text/plain": [
       "<Figure size 432x288 with 1 Axes>"
      ]
     },
     "metadata": {
      "needs_background": "light"
     },
     "output_type": "display_data"
    }
   ],
   "source": [
    "# Histogram for averaged bayesian rating\n",
    "popular_products_df['averaged bayesian rating'].hist(bins=50)"
   ]
  },
  {
   "cell_type": "markdown",
   "id": "b5b2430f",
   "metadata": {},
   "source": [
    "# Collaberative filtering (Item-Item recommedation)"
   ]
  },
  {
   "cell_type": "markdown",
   "id": "c2b681a9",
   "metadata": {},
   "source": [
    "Collaborative filtering is commonly used for recommender systems. These techniques aim to fill in the missing entries of a user-item association matrix. We are going to use collaborative filtering (CF) approach. CF is based on the idea that the best recommendations come from people who have similar tastes. In other words, it uses historical item ratings of like-minded people to predict how someone would rate an item"
   ]
  },
  {
   "cell_type": "code",
   "execution_count": 66,
   "id": "443dc63b",
   "metadata": {},
   "outputs": [
    {
     "name": "stdout",
     "output_type": "stream",
     "text": [
      "Collecting scikit-surpriseNote: you may need to restart the kernel to use updated packages.\n",
      "  Downloading scikit-surprise-1.1.1.tar.gz (11.8 MB)\n",
      "Requirement already satisfied: joblib>=0.11 in c:\\users\\noweto\\anaconda3\\lib\\site-packages (from scikit-surprise) (1.0.1)\n",
      "\n",
      "Requirement already satisfied: numpy>=1.11.2 in c:\\users\\noweto\\anaconda3\\lib\\site-packages (from scikit-surprise) (1.22.2)\n",
      "Requirement already satisfied: scipy>=1.0.0 in c:\\users\\noweto\\anaconda3\\lib\\site-packages (from scikit-surprise) (1.6.2)\n",
      "Requirement already satisfied: six>=1.10.0 in c:\\users\\noweto\\anaconda3\\lib\\site-packages (from scikit-surprise) (1.15.0)\n",
      "Building wheels for collected packages: scikit-surprise\n",
      "  Building wheel for scikit-surprise (setup.py): started\n",
      "  Building wheel for scikit-surprise (setup.py): finished with status 'done'\n",
      "  Created wheel for scikit-surprise: filename=scikit_surprise-1.1.1-cp38-cp38-win_amd64.whl size=711543 sha256=6190e9443cb3b6db9caf97759a870867b4ec2f65734c935924b27b8406e8608d\n",
      "  Stored in directory: c:\\users\\noweto\\appdata\\local\\pip\\cache\\wheels\\20\\91\\57\\2965d4cff1b8ac7ed1b6fa25741882af3974b54a31759e10b6\n",
      "Successfully built scikit-surprise\n",
      "Installing collected packages: scikit-surprise\n",
      "Successfully installed scikit-surprise-1.1.1\n"
     ]
    }
   ],
   "source": [
    "pip install scikit-surprise"
   ]
  },
  {
   "cell_type": "code",
   "execution_count": 67,
   "id": "44c508c9",
   "metadata": {},
   "outputs": [],
   "source": [
    "import sklearn \n",
    "from sklearn.decomposition import TruncatedSVD\n",
    "from sklearn.neighbors import KNeighborsClassifier\n",
    "\n",
    "from collections import defaultdict\n",
    "from surprise import SVD\n",
    "from surprise import KNNWithMeans\n",
    "from surprise import Dataset\n",
    "from surprise import accuracy\n",
    "from surprise import Reader\n",
    "from surprise.model_selection import train_test_split # If you don’t want to run a full cross-validation procedure\n",
    "import os\n",
    "\n",
    "\n"
   ]
  },
  {
   "cell_type": "code",
   "execution_count": 70,
   "id": "b772e733",
   "metadata": {},
   "outputs": [],
   "source": [
    "# For this Section we will use advantage of all Data\n",
    "Data=pd.read_csv(\"ratings_Electronics.csv\",names=['userId', 'productId','Rating','timestamp'])"
   ]
  },
  {
   "cell_type": "code",
   "execution_count": 71,
   "id": "567ea088",
   "metadata": {},
   "outputs": [],
   "source": [
    "Data = Data.drop(columns=['timestamp'],axis=1)"
   ]
  },
  {
   "cell_type": "code",
   "execution_count": 72,
   "id": "375cfdb2",
   "metadata": {},
   "outputs": [
    {
     "data": {
      "text/plain": [
       "(7824482, 3)"
      ]
     },
     "execution_count": 72,
     "metadata": {},
     "output_type": "execute_result"
    }
   ],
   "source": [
    "Data.shape"
   ]
  },
  {
   "cell_type": "code",
   "execution_count": 73,
   "id": "272367a4",
   "metadata": {},
   "outputs": [],
   "source": [
    "new_data = Data.groupby('productId').filter(lambda x:x['Rating'].count()>=50)\n",
    "# Contain rows-- contain products which have more than 50 rating by the users"
   ]
  },
  {
   "cell_type": "code",
   "execution_count": 74,
   "id": "95b99f8c",
   "metadata": {},
   "outputs": [
    {
     "data": {
      "text/plain": [
       "(5374313, 3)"
      ]
     },
     "execution_count": 74,
     "metadata": {},
     "output_type": "execute_result"
    }
   ],
   "source": [
    "new_data.shape"
   ]
  },
  {
   "cell_type": "code",
   "execution_count": 75,
   "id": "6898138c",
   "metadata": {},
   "outputs": [],
   "source": [
    "reader = Reader(rating_scale=(1, 5))\n",
    "data_reader_SVD = Dataset.load_from_df(new_df,reader)\n",
    "#Splitting the dataset with 70% training and 30% testing using Surprise train_test_split\n",
    "trainset_SVD, testset_SVD = train_test_split(data_reader_SVD, test_size=.30)"
   ]
  },
  {
   "cell_type": "code",
   "execution_count": 77,
   "id": "d339fbba",
   "metadata": {},
   "outputs": [],
   "source": [
    "#Data Split for Memory Based Collaborative Filtering\n",
    "# we were going out of memory problem so lets take first 10lac record to Collaborative filtering process.\n",
    "# so splitting data in diffrent part to train them saparately \n",
    "# splitting data into 5 Equal parts of 1074862 record each\n",
    "reader = Reader(rating_scale=(1, 5))\n",
    "data_reader_1 = Dataset.load_from_df(new_data.iloc[:1074862,0:],reader)\n",
    "data_reader_2 = Dataset.load_from_df(new_data.iloc[1074862:2149725,0:],reader)\n",
    "data_reader_3 = Dataset.load_from_df(new_data.iloc[2149725:3224586,0:],reader)\n",
    "data_reader_4 = Dataset.load_from_df(new_data.iloc[3224586:4299448,0:],reader)\n",
    "data_reader_5 = Dataset.load_from_df(new_data.iloc[4299448:,0:],reader)\n",
    "\n",
    "#Splitting the dataset with 70% training and 30% testing using Surprise train_test_split\n",
    "trainset_1, testset_1 = train_test_split(data_reader_1, test_size=.30)\n",
    "trainset_2, testset_2 = train_test_split(data_reader_2, test_size=.30)\n",
    "trainset_3, testset_3 = train_test_split(data_reader_3, test_size=.30)\n",
    "trainset_4, testset_4 = train_test_split(data_reader_4, test_size=.30)\n",
    "trainset_5, testset_5 = train_test_split(data_reader_5, test_size=.30)\n",
    "\n",
    "#holding all training set\n",
    "trainset=[trainset_1,trainset_2,trainset_3,trainset_4,trainset_5]\n",
    "#holding all testing set\n",
    "testset=[testset_1,testset_2,testset_3,testset_4,testset_5]"
   ]
  },
  {
   "cell_type": "markdown",
   "id": "68b86711",
   "metadata": {},
   "source": [
    "### Memory Based Collaborative Filtering"
   ]
  },
  {
   "cell_type": "markdown",
   "id": "9ac0cb84",
   "metadata": {},
   "source": [
    "- Collaborative filtering techniques aim to fill in the missing entries of a user-item association matrix\n",
    "- We are going to use collaborative filtering approach. This is based on the idea that the best recommendations come from people who have similar tastes"
   ]
  },
  {
   "cell_type": "code",
   "execution_count": 79,
   "id": "36414860",
   "metadata": {},
   "outputs": [],
   "source": [
    "# Use user_based true/false to switch between user-based or item-based collaborative filtering\n",
    "algo = KNNWithMeans(k=50, sim_options={'name': 'pearson_baseline', 'user_based': False})"
   ]
  },
  {
   "cell_type": "code",
   "execution_count": 80,
   "id": "e037afb5",
   "metadata": {},
   "outputs": [
    {
     "name": "stdout",
     "output_type": "stream",
     "text": [
      "Estimating biases using als...\n",
      "Computing the pearson_baseline similarity matrix...\n",
      "Done computing similarity matrix.\n"
     ]
    },
    {
     "data": {
      "text/plain": [
       "<surprise.prediction_algorithms.knns.KNNWithMeans at 0x21582307b20>"
      ]
     },
     "execution_count": 80,
     "metadata": {},
     "output_type": "execute_result"
    },
    {
     "name": "stdout",
     "output_type": "stream",
     "text": [
      "Estimating biases using als...\n",
      "Computing the pearson_baseline similarity matrix...\n",
      "Done computing similarity matrix.\n"
     ]
    },
    {
     "data": {
      "text/plain": [
       "<surprise.prediction_algorithms.knns.KNNWithMeans at 0x21582307b20>"
      ]
     },
     "execution_count": 80,
     "metadata": {},
     "output_type": "execute_result"
    },
    {
     "name": "stdout",
     "output_type": "stream",
     "text": [
      "Estimating biases using als...\n",
      "Computing the pearson_baseline similarity matrix...\n",
      "Done computing similarity matrix.\n"
     ]
    },
    {
     "data": {
      "text/plain": [
       "<surprise.prediction_algorithms.knns.KNNWithMeans at 0x21582307b20>"
      ]
     },
     "execution_count": 80,
     "metadata": {},
     "output_type": "execute_result"
    },
    {
     "name": "stdout",
     "output_type": "stream",
     "text": [
      "Estimating biases using als...\n",
      "Computing the pearson_baseline similarity matrix...\n",
      "Done computing similarity matrix.\n"
     ]
    },
    {
     "data": {
      "text/plain": [
       "<surprise.prediction_algorithms.knns.KNNWithMeans at 0x21582307b20>"
      ]
     },
     "execution_count": 80,
     "metadata": {},
     "output_type": "execute_result"
    },
    {
     "name": "stdout",
     "output_type": "stream",
     "text": [
      "Estimating biases using als...\n",
      "Computing the pearson_baseline similarity matrix...\n",
      "Done computing similarity matrix.\n"
     ]
    },
    {
     "data": {
      "text/plain": [
       "<surprise.prediction_algorithms.knns.KNNWithMeans at 0x21582307b20>"
      ]
     },
     "execution_count": 80,
     "metadata": {},
     "output_type": "execute_result"
    }
   ],
   "source": [
    "test=[]\n",
    "for item in range(5):\n",
    "    algo.fit(trainset[item])\n",
    "    test.append(algo.test(testset[item]))"
   ]
  },
  {
   "cell_type": "code",
   "execution_count": 81,
   "id": "9f78175a",
   "metadata": {},
   "outputs": [
    {
     "data": {
      "text/plain": [
       "[Prediction(uid='AZLQUF2IE6P4C', iid='B00006JN3G', r_ui=1.0, est=4.055862350362771, details={'was_impossible': True, 'reason': 'User and/or item is unknown.'}),\n",
       " Prediction(uid='A2SA6LR78V49UV', iid='B000W0OVV2', r_ui=1.0, est=3.0526315789473686, details={'actual_k': 0, 'was_impossible': False}),\n",
       " Prediction(uid='A8CZQM9DB1NQJ', iid='B000B6KXM8', r_ui=4.0, est=3.763157894736842, details={'actual_k': 0, 'was_impossible': False}),\n",
       " Prediction(uid='A287QX4SWTEMTR', iid='B000WL6YY8', r_ui=5.0, est=4.055862350362771, details={'was_impossible': True, 'reason': 'User and/or item is unknown.'}),\n",
       " Prediction(uid='A2H96KYWABB5MW', iid='B000CNAEEW', r_ui=5.0, est=4.055862350362771, details={'was_impossible': True, 'reason': 'User and/or item is unknown.'})]"
      ]
     },
     "execution_count": 81,
     "metadata": {},
     "output_type": "execute_result"
    }
   ],
   "source": [
    "#checking prediction\n",
    "test[0][0:5]"
   ]
  },
  {
   "cell_type": "markdown",
   "id": "ad031765",
   "metadata": {},
   "source": [
    "### Model Based Collobrative Filtering"
   ]
  },
  {
   "cell_type": "code",
   "execution_count": 82,
   "id": "1f78692b",
   "metadata": {},
   "outputs": [
    {
     "data": {
      "text/plain": [
       "<surprise.prediction_algorithms.matrix_factorization.SVD at 0x215822a8df0>"
      ]
     },
     "execution_count": 82,
     "metadata": {},
     "output_type": "execute_result"
    }
   ],
   "source": [
    "algo_SVD = SVD()\n",
    "algo_SVD.fit(trainset_SVD)"
   ]
  },
  {
   "cell_type": "code",
   "execution_count": 83,
   "id": "10988a3f",
   "metadata": {},
   "outputs": [],
   "source": [
    "predictions_SVD = algo.test(testset_SVD)"
   ]
  },
  {
   "cell_type": "code",
   "execution_count": 84,
   "id": "462a423d",
   "metadata": {},
   "outputs": [
    {
     "name": "stdout",
     "output_type": "stream",
     "text": [
      "RMSE: 1.3554\n"
     ]
    }
   ],
   "source": [
    "RMSE_SVD=accuracy.rmse(predictions_SVD, verbose=True)"
   ]
  },
  {
   "cell_type": "code",
   "execution_count": 85,
   "id": "9c807b05",
   "metadata": {},
   "outputs": [
    {
     "name": "stdout",
     "output_type": "stream",
     "text": [
      "Item-based Model : Test Set\n",
      "RMSE: 1.3363\n",
      "RMSE: 1.3809\n",
      "RMSE: 1.3616\n",
      "RMSE: 1.3077\n",
      "RMSE: 1.3175\n"
     ]
    }
   ],
   "source": [
    "# evaluating Collobarative filtering (memory based model)\n",
    "print(\"Item-based Model : Test Set\")\n",
    "RMSE = []\n",
    "Total_RMSE = 0\n",
    "for i in range(5):\n",
    "    RMSE.append(accuracy.rmse(test[i], verbose=True))\n",
    "    Total_RMSE = Total_RMSE + RMSE[i]"
   ]
  },
  {
   "cell_type": "code",
   "execution_count": 86,
   "id": "0dd6d5ad",
   "metadata": {},
   "outputs": [],
   "source": [
    "#creating function to get top 5 Product Recommendation for each user.\n",
    "def get_top_n(predictions, n=5):\n",
    "    # First map the predictions to each user.\n",
    "    top_n = defaultdict(list)\n",
    "    for uid, iid, true_r, est, _ in predictions:\n",
    "        top_n[uid].append((iid, est))\n",
    "\n",
    "    # Then sort the predictions for each user and retrieve the k highest ones.\n",
    "    for uid, user_ratings in top_n.items():\n",
    "        user_ratings.sort(key=lambda x: x[1], reverse=True)\n",
    "        top_n[uid] = user_ratings[:n]\n",
    "\n",
    "    return top_n"
   ]
  },
  {
   "cell_type": "code",
   "execution_count": 87,
   "id": "12682488",
   "metadata": {},
   "outputs": [],
   "source": [
    "top_n = get_top_n(predictions_SVD, n=5)"
   ]
  },
  {
   "cell_type": "code",
   "execution_count": 88,
   "id": "f868572b",
   "metadata": {},
   "outputs": [
    {
     "name": "stdout",
     "output_type": "stream",
     "text": [
      "AV2INZEK3WZ5Q ['B0002SQ0A4']\n",
      "A3N7OZQMWBONXS ['B00005ML7Q', 'B000H6AY6M', 'B00065ANYC', 'B000EN0K94', 'B0006N3EVS']\n",
      "A1BYCYTUG2ZVEZ ['B0001F22PA', 'B000EHCUIY']\n",
      "A3M6UYWCRJOGK9 ['B0000DK5LW', 'B00005T3G0']\n",
      "A1RSLCKCGGZBKN ['B0000AAAPF']\n",
      "A3202C86H3AD1V ['B000F4C1H6', '140053271X', 'B0002LHSFW', 'B00009WQS1', 'B000AA2RCY']\n",
      "A1L0JHQ8N4MLZ ['B000H6AY6M', 'B0002K6Y9E']\n",
      "A3CNVGP94SVCXY ['B000HVVHEU']\n",
      "A1D4BV1R8EZ75R ['B000FB44VA']\n",
      "A3MIA1LRF769D5 ['B00004T1XK']\n",
      "A2HM8LP0MWYMVS ['B0002ER5B6']\n",
      "AL14D9SUFVLGP ['B0002KVQBA']\n",
      "A3R8XTSDWEDBNM ['B000BKJZ9Q']\n",
      "A23XVBGSOPAFU0 ['B000E1CB1Q']\n",
      "A2VK03JSXUTPX5 ['B000067SOL']\n",
      "A3K8NHKMIA0T1U ['B000FVDD30']\n",
      "A184NWR0L578SA ['B0001FTVEK']\n",
      "A15Q2HRSGVP47C ['B00005LEN4']\n",
      "AM8E4DWUKGLBV ['B000065BPA']\n",
      "AKSD3GKHI87W6 ['B00007EDM8']\n",
      "A3SEH9MH231NQQ ['B00012EYNG', 'B0001FTVEK']\n",
      "A2BMA4RASETDR ['B000EOOU6M']\n",
      "A2P2MKF8RBOOEA ['B00006JQ06']\n",
      "A1QXRHE2514OAS ['B0000CBJ8J']\n",
      "A123MJB9Y61LY3 ['B000E3XPYQ']\n",
      "AGP8A2F5LP0GG ['B000089GN3']\n",
      "A2TGTO1WAADQ5 ['B0002JY6TK']\n",
      "A2OTP2CWBPWMD9 ['B0002L5R78']\n",
      "A20JDF6OUO0G2N ['B000EVT0XS']\n",
      "A1WYZ3GZSHNGI6 ['B000A6PPOK']\n",
      "A2PZGRM4ZALSLR ['B000BQ7GW8']\n",
      "AC4HK3TCJ3B4N ['B000I2C80K', 'B000067O5G']\n",
      "A23289XN4R2KNO ['B0008G1RSU']\n",
      "A3RXYH238RDA1Y ['B00004ZC8Y']\n",
      "A3PYCK5F27TB0J ['B000I98ZQY']\n",
      "A12FLGFSDIIL8V ['B0009204RI']\n",
      "A39FL6GIM8S2BE ['B00006JPDG', 'B0000AKA90']\n",
      "A2CSX1OZ0E7EY3 ['B00025O7FC', 'B000BBCTHU']\n",
      "AX5QZ61TJMXRU ['B0001FTVEA']\n",
      "A23R5XTHWAJIGH ['B00005T3G0']\n",
      "AT0GC7FEIG7PG ['B00007KDVI']\n",
      "A149RNR5RH19YY ['B00006B9HC', 'B00007KDVJ', 'B00008VF63', 'B0002T3UQ0', 'B0009N5MDI']\n",
      "AREZBIEBFL7PC ['B0000642RX']\n",
      "A2O34BT23UK7RN ['B0001VGFKW']\n",
      "A1CBIES3B8TAYP ['B0000952XX']\n",
      "A30U9WBOTWUP1C ['B00066FH1U']\n",
      "A30DUSCG75PB4J ['B000BV8604']\n",
      "AQVZKN8VL2PN9 ['B00005ML7Q']\n",
      "A113WMZBD75ZUZ ['B0009STJIW']\n",
      "A3K6GH5N1LDKVF ['B000062VUO']\n",
      "AFVZLV2VMU3EI ['B000A2AGYS']\n"
     ]
    }
   ],
   "source": [
    "# Print the recommended items for first 50 user\n",
    "count=0\n",
    "for uid, user_ratings in top_n.items():\n",
    "    print(uid, [iid for (iid, _) in user_ratings])\n",
    "    if(count>49):\n",
    "        break\n",
    "    count=count+1"
   ]
  },
  {
   "cell_type": "code",
   "execution_count": null,
   "id": "e18ed026",
   "metadata": {},
   "outputs": [],
   "source": []
  }
 ],
 "metadata": {
  "kernelspec": {
   "display_name": "Python 3",
   "language": "python",
   "name": "python3"
  },
  "language_info": {
   "codemirror_mode": {
    "name": "ipython",
    "version": 3
   },
   "file_extension": ".py",
   "mimetype": "text/x-python",
   "name": "python",
   "nbconvert_exporter": "python",
   "pygments_lexer": "ipython3",
   "version": "3.8.8"
  }
 },
 "nbformat": 4,
 "nbformat_minor": 5
}
